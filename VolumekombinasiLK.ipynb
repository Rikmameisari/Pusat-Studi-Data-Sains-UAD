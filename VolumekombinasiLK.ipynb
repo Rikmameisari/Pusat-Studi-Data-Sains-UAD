{
  "nbformat": 4,
  "nbformat_minor": 0,
  "metadata": {
    "colab": {
      "name": "VolumekombinasiLK.ipynb",
      "provenance": [],
      "collapsed_sections": [],
      "authorship_tag": "ABX9TyOhmqFS1uHn36cVb31fGjby",
      "include_colab_link": true
    },
    "kernelspec": {
      "name": "python3",
      "display_name": "Python 3"
    }
  },
  "cells": [
    {
      "cell_type": "markdown",
      "metadata": {
        "id": "view-in-github",
        "colab_type": "text"
      },
      "source": [
        "<a href=\"https://colab.research.google.com/github/Rikmameisari/Pusat-Studi-Data-Sains-UAD/blob/main/VolumekombinasiLK.ipynb\" target=\"_parent\"><img src=\"https://colab.research.google.com/assets/colab-badge.svg\" alt=\"Open In Colab\"/></a>"
      ]
    },
    {
      "cell_type": "markdown",
      "metadata": {
        "id": "mpg5tT0r9_ZR"
      },
      "source": [
        "#Modul Python untuk Volume Kombinasi Kubus dan Limas"
      ]
    },
    {
      "cell_type": "markdown",
      "metadata": {
        "id": "L0fT9jXWBRpz"
      },
      "source": [
        "Kolom 1 | kolom 2\r\n",
        "-------|----------\r\n",
        "Nama | Rikma Mei Sari\r\n",
        "NIM  | 1800015065\r\n",
        "Semester | 5"
      ]
    },
    {
      "cell_type": "code",
      "metadata": {
        "colab": {
          "base_uri": "https://localhost:8080/"
        },
        "id": "mBXAuMg_4Y_K",
        "outputId": "487ba42f-e784-4b0d-f0df-22ddd4795a5d"
      },
      "source": [
        "#A =sisi kubus dan sisi alas limas\r\n",
        "#T = tinggi limas\r\n",
        "#Disini limas memiliki bentuk alas persegi.\r\n",
        "print(\"Disini limas memiliki bentuk alas persegi\")\r\n",
        "A = float(input(\"Masukkan panjang sisi : \"))\r\n",
        "T = float(input(\"Masukkan tinggi limas : \"))\r\n",
        "\r\n",
        "def volume_kubus(A):\r\n",
        "   Volume = A*A*A\r\n",
        "   return Volume\r\n",
        "\r\n",
        "def volume_limas(A,T):\r\n",
        "   Volume = (1/3)*A*A*T\r\n",
        "   return Volume\r\n",
        "\r\n",
        "def volume_total(A,T):\r\n",
        "   v1 = volume_kubus(A)\r\n",
        "   v2 = volume_limas(A,T)\r\n",
        "   Volume = v1+v2\r\n",
        "   return Volume\r\n",
        "print(\"Maka Volume Kombinasinya adalah : \", volume_total(A,T))"
      ],
      "execution_count": 30,
      "outputs": [
        {
          "output_type": "stream",
          "text": [
            "Disini limas memiliki bentuk alas persegi\n",
            "Masukkan panjang sisi : 9\n",
            "Masukkan tinggi limas : 12\n",
            "Maka Volume Kombinasinya adalah :  1053.0\n"
          ],
          "name": "stdout"
        }
      ]
    }
  ]
}